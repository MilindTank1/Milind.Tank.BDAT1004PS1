{
 "cells": [
  {
   "cell_type": "markdown",
   "id": "44347529",
   "metadata": {},
   "source": [
    "# Question 1"
   ]
  },
  {
   "cell_type": "markdown",
   "id": "5d480819",
   "metadata": {},
   "source": [
    "5 --> int\n",
    "5.0 --> float\n",
    "5 > 1 --> boolean\n",
    "'5' --> string\n",
    "5 * 2 --> int\n",
    "'5' * 2 --> string\n",
    "'5' + '2' --> string\n",
    "5 / 2 --> float\n",
    "5 % 2 --> int\n",
    "{5, 2, 1} --> set\n",
    "5 == 3 --> boolean\n",
    "Pi (the number) --> double"
   ]
  },
  {
   "cell_type": "markdown",
   "id": "aa0a0923",
   "metadata": {},
   "source": [
    "# Question 2"
   ]
  },
  {
   "cell_type": "code",
   "execution_count": 2,
   "id": "c7a7bdb0",
   "metadata": {},
   "outputs": [
    {
     "ename": "SyntaxError",
     "evalue": "invalid syntax (Temp/ipykernel_10316/440343402.py, line 2)",
     "output_type": "error",
     "traceback": [
      "\u001b[1;36m  File \u001b[1;32m\"C:\\Users\\tank_\\AppData\\Local\\Temp/ipykernel_10316/440343402.py\"\u001b[1;36m, line \u001b[1;32m2\u001b[0m\n\u001b[1;33m    string myString = \"Supercalifragilisticexpialidocious\";\u001b[0m\n\u001b[1;37m           ^\u001b[0m\n\u001b[1;31mSyntaxError\u001b[0m\u001b[1;31m:\u001b[0m invalid syntax\n"
     ]
    }
   ],
   "source": [
    "#a.\n",
    "string myString = \"Supercalifragilisticexpialidocious\";\n",
    "Console.WriteLine(myString.Length);\n",
    "output:34\n",
    "\n",
    "#b.\n",
    "string myString2 = \"Supercalifragilisticexpialidocious\";\n",
    "string myString3 = \"ice\";\n",
    "bool b = myString2.Contains(myString2);\n",
    "Console.WriteLine(b);\n",
    "output:True\n",
    "\n",
    "#c.\n"
   ]
  },
  {
   "cell_type": "markdown",
   "id": "dfd3caca",
   "metadata": {},
   "source": [
    "# Question 3"
   ]
  },
  {
   "cell_type": "code",
   "execution_count": null,
   "id": "b7660f36",
   "metadata": {},
   "outputs": [],
   "source": [
    "namespace Data_Programming_set_1.Modules\n",
    "{\n",
    "    internal class str\n",
    "    {\n",
    "        public double triangleArea(float a, float b, float c)\n",
    "        {\n",
    "            float s = (a + b + c) / 2;\n",
    "            return (double)Math.Sqrt(s * (s - a) *\n",
    "                            (s - b) * (s - c));\n",
    "        }\n",
    "    }\n",
    "}\n",
    "\n",
    "using Data_Programming_set_1.Modules;\n",
    "\n",
    "Console.WriteLine(\"Enter side #1\");\n",
    "float a = float.Parse(Console.ReadLine());\n",
    "Console.WriteLine(\"Enter side #2\");\n",
    "float b = float.Parse(Console.ReadLine());\n",
    "Console.WriteLine(\"Enter side #3\");\n",
    "float c = float.Parse(Console.ReadLine());\n",
    "str sr = new str();\n",
    "Console.WriteLine(\"Area of triangle is \" + sr.triangleArea(a, b, c));\n"
   ]
  },
  {
   "cell_type": "markdown",
   "id": "4369c7aa",
   "metadata": {},
   "source": [
    "# Question 4"
   ]
  },
  {
   "cell_type": "code",
   "execution_count": 1,
   "id": "fabb8831",
   "metadata": {},
   "outputs": [
    {
     "ename": "SyntaxError",
     "evalue": "invalid syntax (Temp/ipykernel_3088/2716327486.py, line 1)",
     "output_type": "error",
     "traceback": [
      "\u001b[1;36m  File \u001b[1;32m\"C:\\Users\\tank_\\AppData\\Local\\Temp/ipykernel_3088/2716327486.py\"\u001b[1;36m, line \u001b[1;32m1\u001b[0m\n\u001b[1;33m    int i;\u001b[0m\n\u001b[1;37m        ^\u001b[0m\n\u001b[1;31mSyntaxError\u001b[0m\u001b[1;31m:\u001b[0m invalid syntax\n"
     ]
    }
   ],
   "source": [
    "int i;\n",
    "Console.WriteLine(\"input the number of elements to be stored in the array: \");\n",
    "int n = Convert.ToInt32(Console.ReadLine());\n",
    "int[] arr = new int[n];\n",
    "\n",
    "Console.Write(\"Enter {0} numbers:\",n);\n",
    "Console.WriteLine();\n",
    "for (i = 0; i < arr.Length; i++)\n",
    "{\n",
    "    Console.Write(\"Element - {0} : \", i);\n",
    "    arr[i] = Convert.ToInt32(Console.ReadLine());\n",
    "}\n",
    "\n",
    "Console.Write(\"Even list is:\");\n",
    "for (i = 0; i < n; i++)\n",
    "{\n",
    "    if (arr[i] % 2 == 0)\n",
    "    {\n",
    "        Console.Write(\" \" + arr[i]);\n",
    "    }\n",
    "}\n",
    "\n",
    "Console.Write(\"\\nOdd List is:\");\n",
    "for (i = 0; i < n; i++)\n",
    "{\n",
    "    if (arr[i] % 2 != 0)\n",
    "    {\n",
    "        Console.Write(\" \" + arr[i]);\n",
    "    }\n",
    "}"
   ]
  },
  {
   "attachments": {
    "4.png": {
     "image/png": "[encoded data removed]"
    }
   },
   "cell_type": "markdown",
   "id": "6a3215c4",
   "metadata": {},
   "source": [
    "![4.png](attachment:4.png)"
   ]
  },
  {
   "cell_type": "markdown",
   "id": "f7f55f2a",
   "metadata": {},
   "source": [
    "Question 5"
   ]
  },
  {
   "cell_type": "markdown",
   "id": "9b9abc6a",
   "metadata": {},
   "source": [
    "Question 6"
   ]
  },
  {
   "cell_type": "code",
   "execution_count": 19,
   "id": "6b52afaa",
   "metadata": {},
   "outputs": [
    {
     "name": "stdout",
     "output_type": "stream",
     "text": [
      "Enter your nameenter\n",
      "enteray\n"
     ]
    }
   ],
   "source": [
    "\n",
    "def isVowel(c):\n",
    "\treturn (c == 'A' or c == 'E' or c == 'I' or\n",
    "\t\t\tc == 'O' or c == 'U' or c == 'a' or\n",
    "\t\t\tc == 'e' or c == 'i' or c == 'o' or\n",
    "\t\t\tc == 'u');\n",
    "\n",
    "\n",
    "def pig(s):\n",
    "\n",
    "\tlength = len(s);\n",
    "\tindex = -1;\n",
    "\tfor i in range(length):\n",
    "\t\tif (isVowel(s[i])):\n",
    "\t\t\tindex = i;\n",
    "\t\t\tbreak;\n",
    "\n",
    "\n",
    "\tif (index == -1):\n",
    "\t\treturn \"-1\";\n",
    "\n",
    "\n",
    "\treturn s[index:] + s[0:index] + \"ay\";\n",
    "inp = input(\"Enter your name\")\n",
    "str = pig(inp);\n",
    "if (str == \"-1\"):\n",
    "\tprint(\"No vowels found. Pig Latin not possible\");\n",
    "else:\n",
    "\tprint(str);\n",
    "\n",
    "\n"
   ]
  },
  {
   "cell_type": "markdown",
   "id": "bf3b4890",
   "metadata": {},
   "source": [
    "Question 7"
   ]
  },
  {
   "cell_type": "code",
   "execution_count": 26,
   "id": "2580fa73",
   "metadata": {},
   "outputs": [
    {
     "name": "stdout",
     "output_type": "stream",
     "text": [
      "There are 15 patients of blood type A.\n",
      "There is one patient of blood type B.\n",
      "There are 13 patients of blood type AB.\n",
      "There are 15 patients of blood type O.\n",
      "There are no patients of blood type OO.\n"
     ]
    }
   ],
   "source": [
    "def bloodcount(filename):\n",
    "    infile=open(\"bloodtype1.txt\", 'r')\n",
    "    content= infile.read()\n",
    "    infile.close()\n",
    "    content=content.split()\n",
    "    bloodtype = ['A','a','B','b','AB','ab','O','o','OO','oo']\n",
    "    for i in bloodtype:\n",
    "        if content.count(i)==0:\n",
    "            print('There are no patients of blood type',i+'.')\n",
    "        elif content.count(i)==1:\n",
    "            print('There is one patient of blood type',i+'.')\n",
    "        else:\n",
    "            print('There are',content.count(i),'patients of blood type', i+'.')\n",
    "bloodcount('bloodtype.txt')"
   ]
  },
  {
   "cell_type": "raw",
   "id": "18bcd11f",
   "metadata": {},
   "source": [
    "Question 8"
   ]
  },
  {
   "cell_type": "markdown",
   "id": "c83eae9e",
   "metadata": {},
   "source": [
    "Question 9"
   ]
  },
  {
   "cell_type": "code",
   "execution_count": 31,
   "id": "6155f7f6",
   "metadata": {},
   "outputs": [
    {
     "ename": "AttributeError",
     "evalue": "'_io.TextIOWrapper' object has no attribute 'readLine'",
     "output_type": "error",
     "traceback": [
      "\u001b[1;31m---------------------------------------------------------------------------\u001b[0m",
      "\u001b[1;31mAttributeError\u001b[0m                            Traceback (most recent call last)",
      "\u001b[1;32m~\\AppData\\Local\\Temp/ipykernel_10316/2344472173.py\u001b[0m in \u001b[0;36m<module>\u001b[1;34m\u001b[0m\n\u001b[0;32m     17\u001b[0m \u001b[1;33m\u001b[0m\u001b[0m\n\u001b[0;32m     18\u001b[0m \u001b[0minfile\u001b[0m\u001b[1;33m=\u001b[0m\u001b[0mopen\u001b[0m\u001b[1;33m(\u001b[0m\u001b[1;34m'bloodtype1.txt'\u001b[0m\u001b[1;33m)\u001b[0m\u001b[1;33m\u001b[0m\u001b[1;33m\u001b[0m\u001b[0m\n\u001b[1;32m---> 19\u001b[1;33m \u001b[0minfile\u001b[0m\u001b[1;33m.\u001b[0m\u001b[0mreadLine\u001b[0m\u001b[1;33m(\u001b[0m\u001b[1;33m)\u001b[0m\u001b[1;33m\u001b[0m\u001b[1;33m\u001b[0m\u001b[0m\n\u001b[0m\u001b[0;32m     20\u001b[0m \u001b[0minfile\u001b[0m\u001b[1;33m.\u001b[0m\u001b[0mclose\u001b[0m\u001b[1;33m(\u001b[0m\u001b[1;33m)\u001b[0m\u001b[1;33m\u001b[0m\u001b[1;33m\u001b[0m\u001b[0m\n\u001b[0;32m     21\u001b[0m \u001b[1;33m\u001b[0m\u001b[0m\n",
      "\u001b[1;31mAttributeError\u001b[0m: '_io.TextIOWrapper' object has no attribute 'readLine'"
     ]
    }
   ],
   "source": [
    "#a=6\n",
    "#b='a'\n",
    "#print(a+b)\n",
    "#unsupported operand type(s) for +: 'int' and 'str'\n",
    "\n",
    "#countries = ['India','Canada','USA','China','Russia','Spain','England','Netherland','France','Brazil']\n",
    "#print(countries)\n",
    "#print(countries[12])\n",
    "#IndexError: list index out of range\n",
    "\n",
    "#import math\n",
    "#print(math.sqrt(-1.0))\n",
    "#ValueError: math domain error\n",
    "\n",
    "#print(x)\n",
    "#NameError: name 'x' is not defined\n",
    "\n",
    "#infile=open('bloodtype1.txt')\n",
    "#infile.readLine()\n",
    "#FileNotFoundError: [Errno 2] No such file or directory: 'bloodtype1.txt'\n",
    "\n",
    "\n",
    "\n"
   ]
  },
  {
   "cell_type": "markdown",
   "id": "fe870676",
   "metadata": {},
   "source": [
    "Question 10"
   ]
  },
  {
   "cell_type": "code",
   "execution_count": 15,
   "id": "3194db35",
   "metadata": {},
   "outputs": [
    {
     "name": "stdout",
     "output_type": "stream",
     "text": [
      "Duplicate characters in a given string: \n",
      "2\n",
      "3\n",
      "2\n",
      "6\n",
      "3\n",
      "3\n",
      "2\n",
      "3\n",
      "2\n",
      "2\n",
      "2\n"
     ]
    }
   ],
   "source": [
    "string = \"welcome to the world of python programming\";\n",
    "    \n",
    "print(\"Duplicate characters in a given string: \");  \n",
    "for i in range(0, len(string)):  \n",
    "    count = 1;  \n",
    "    for j in range(i+1, len(string)):  \n",
    "        if(string[i] == string[j] and string[i] != ' '):  \n",
    "            count = count + 1;  \n",
    "            string = string[:j] + '0' + string[j+1:];  \n",
    "    \n",
    "    if(count > 1 and string[i] != '0'):  \n",
    "        print(count);"
   ]
  },
  {
   "cell_type": "code",
   "execution_count": null,
   "id": "4c8d7473",
   "metadata": {},
   "outputs": [],
   "source": []
  }
 ],
 "metadata": {
  "kernelspec": {
   "display_name": "Python 3 (ipykernel)",
   "language": "python",
   "name": "python3"
  },
  "language_info": {
   "codemirror_mode": {
    "name": "ipython",
    "version": 3
   },
   "file_extension": ".py",
   "mimetype": "text/x-python",
   "name": "python",
   "nbconvert_exporter": "python",
   "pygments_lexer": "ipython3",
   "version": "3.9.7"
  }
 },
 "nbformat": 4,
 "nbformat_minor": 5
}
